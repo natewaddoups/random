{
 "cells": [
  {
   "cell_type": "code",
   "execution_count": null,
   "metadata": {},
   "outputs": [],
   "source": [
    "!pip install openai\n",
    "!pip install sounddevice\n",
    "!pip install python-dotenv\n",
    "!pip install scipy\n",
    "!pip install requests"
   ]
  },
  {
   "cell_type": "code",
   "execution_count": null,
   "metadata": {},
   "outputs": [],
   "source": [
    "from os import environ\n",
    "from dotenv.main import load_dotenv\n",
    "\n",
    "load_dotenv()\n",
    "\n",
    "OPENAI_API_KEY = environ[\"OPENAI_API_KEY\"]\n",
    "IMGFLIP_PASSWORD = environ[\"IMGFLIP_PASSWORD\"]\n",
    "\n",
    "# Uncomment for troubleshooting\n",
    "# print(OPENAI_API_KEY)\n",
    "# print(IMGFLIP_PASSWORD)"
   ]
  },
  {
   "cell_type": "code",
   "execution_count": null,
   "metadata": {},
   "outputs": [],
   "source": [
    "import sounddevice\n",
    "from scipy.io.wavfile import write\n",
    "sampleRate = 44100\n",
    "print (\"Recording started...\")\n",
    "audio = sounddevice.rec(int(15 * sampleRate), sampleRate, channels=1)\n",
    "sounddevice.wait()\n",
    "print (\"Recording ended.\")\n",
    "write(\"recording.wav\", sampleRate, audio)\n"
   ]
  },
  {
   "cell_type": "code",
   "execution_count": 34,
   "metadata": {},
   "outputs": [
    {
     "name": "stdout",
     "output_type": "stream",
     "text": [
      "Transcription: Create a meme using the one does not simply image template. The top text should say an engineer does not simply. The bottom text should say create a meme.\n",
      "\n"
     ]
    }
   ],
   "source": [
    "from openai import OpenAI\n",
    "\n",
    "client = OpenAI(api_key=OPENAI_API_KEY)\n",
    "\n",
    "# Re-use this file for development, troubleshooting, demonstration, etc\n",
    "# file_path = \"./proven_recording.wav\"\n",
    "file_path = \"./recording.wav\"\n",
    "\n",
    "with open(file_path, \"rb\") as audio_file:\n",
    "    response = client.audio.transcriptions.create(\n",
    "        model=\"whisper-1\",\n",
    "        file=audio_file,\n",
    "        language=\"en\",\n",
    "        response_format=\"text\"\n",
    "    )\n",
    "\n",
    "if response:\n",
    "    print(\"Transcription:\", response)\n",
    "\n",
    "transcription = response"
   ]
  },
  {
   "cell_type": "code",
   "execution_count": 35,
   "metadata": {},
   "outputs": [],
   "source": [
    "from openai import OpenAI\n",
    "\n",
    "def chat(prompt):\n",
    "    client = OpenAI()\n",
    "    response = client.chat.completions.with_raw_response.create(\n",
    "        messages=[{\n",
    "            \"role\": \"user\",\n",
    "            \"content\": prompt\n",
    "        }],\n",
    "        model=\"gpt-3.5-turbo\",\n",
    "    )\n",
    "    completion = response.parse()\n",
    "    result = completion.choices[0].message.content\n",
    "    return result\n",
    "    "
   ]
  },
  {
   "cell_type": "code",
   "execution_count": 36,
   "metadata": {},
   "outputs": [
    {
     "name": "stdout",
     "output_type": "stream",
     "text": [
      "Meme name: One does not simply\n",
      "Meme number: 61579\n",
      "Top text: an engineer does not simply\n",
      "Bottom text: create a meme\n"
     ]
    }
   ],
   "source": [
    "memeName = chat(\"What is the name of the meme that the user is asking about in the phrase that follows the # character? Emit just the meme name, nothing else. # \" + transcription)\n",
    "print(\"Meme name: \" + memeName)\n",
    "\n",
    "memeNumber = chat(\"The web page at  https://imgflip.com/popular-meme-ids contains a table of meme image IDs and descriptions. What is the ID of the '\" + memeName + \"' meme? Emit just the ID number, nothing else.\")\n",
    "print(\"Meme number: \" + memeNumber)\n",
    "\n",
    "topText = chat(\"In the phrase that follows the # character, What 'top text' does the user want to be on the top of meme? Emit just the top text, nothing else. # \" + transcription)\n",
    "print(\"Top text: \" + topText)\n",
    "\n",
    "bottomText = chat(\"In the phrase that follows the # character, What text does the user want to put on the bottom of meme? Emit just the text, nothing else. # \" + transcription)\n",
    "print(\"Bottom text: \" + bottomText)"
   ]
  },
  {
   "cell_type": "code",
   "execution_count": 37,
   "metadata": {},
   "outputs": [
    {
     "name": "stdout",
     "output_type": "stream",
     "text": [
      "{'success': True, 'data': {'url': 'https://i.imgflip.com/981y6c.jpg', 'page_url': 'https://imgflip.com/i/981y6c'}}\n"
     ]
    },
    {
     "data": {
      "text/plain": [
       "True"
      ]
     },
     "execution_count": 37,
     "metadata": {},
     "output_type": "execute_result"
    }
   ],
   "source": [
    "import requests\n",
    "import urllib\n",
    "\n",
    "url = \"https://api.imgflip.com/caption_image\"\n",
    "\n",
    "params = {\n",
    "    'username':'natewaddoups',\n",
    "    'password': IMGFLIP_PASSWORD,\n",
    "    'template_id': memeNumber,\n",
    "    'text0':topText,\n",
    "    'text1':bottomText\n",
    "}\n",
    "response = requests.request('POST',url,params=params).json()\n",
    "print(response)\n",
    "\n",
    "import webbrowser\n",
    "webbrowser.open(response[\"data\"][\"url\"])\n"
   ]
  }
 ],
 "metadata": {
  "kernelspec": {
   "display_name": "Python 3",
   "language": "python",
   "name": "python3"
  },
  "language_info": {
   "codemirror_mode": {
    "name": "ipython",
    "version": 3
   },
   "file_extension": ".py",
   "mimetype": "text/x-python",
   "name": "python",
   "nbconvert_exporter": "python",
   "pygments_lexer": "ipython3",
   "version": "3.12.7"
  }
 },
 "nbformat": 4,
 "nbformat_minor": 2
}
